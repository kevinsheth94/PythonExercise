{
 "cells": [
  {
   "cell_type": "code",
   "execution_count": 1,
   "id": "0d2de956",
   "metadata": {
    "scrolled": true
   },
   "outputs": [],
   "source": [
    "#Importing all required libraries\n",
    "import pandas as pd\n",
    "import numpy as np\n",
    "import time\n",
    "import psycopg2\n",
    "from psycopg2 import OperationalError, errorcodes, errors\n",
    "import psycopg2.extras as extras\n",
    "from sqlalchemy import create_engine\n"
   ]
  },
  {
   "cell_type": "code",
   "execution_count": 2,
   "id": "79ac0cc3",
   "metadata": {},
   "outputs": [],
   "source": [
    "# Define a function that handles and parses psycopg2 exceptions\n",
    "def show_psycopg2_exception(err):\n",
    "    # get details about the exception\n",
    "    err_type, err_obj, traceback = sys.exc_info()    \n",
    "    # get the line number when exception occured\n",
    "    line_n = traceback.tb_lineno    \n",
    "    # print the connect() error\n",
    "    print (\"\\npsycopg2 ERROR:\", err, \"on line number:\", line_n)\n",
    "    print (\"psycopg2 traceback:\", traceback, \"-- type:\", err_type) \n",
    "    # psycopg2 extensions.Diagnostics object attribute\n",
    "    print (\"\\nextensions.Diagnostics:\", err.diag)    \n",
    "    # print the pgcode and pgerror exceptions\n",
    "    print (\"pgerror:\", err.pgerror)\n",
    "    print (\"pgcode:\", err.pgcode, \"\\n\")"
   ]
  },
  {
   "cell_type": "code",
   "execution_count": 3,
   "id": "a8cd8bf4",
   "metadata": {},
   "outputs": [
    {
     "name": "stdout",
     "output_type": "stream",
     "text": [
      "Connecting to the PostgreSQL...........\n",
      "Connection successfully..................\n"
     ]
    }
   ],
   "source": [
    "# Postgres username, password, and database name\n",
    "POSTGRES_ADDRESS = 'localhost'\n",
    "POSTGRES_PORT = '5432'\n",
    "POSTGRES_USERNAME = 'postgres'\n",
    "POSTGRES_PASSWORD = 'kevin' \n",
    "POSTGRES_DBNAME = 'postgres'\n",
    "# A long string that contains the necessary Postgres login information\n",
    "postgres_str = ('postgresql://{username}:{password}@{ipaddress}:{port}/{dbname}'\n",
    "                .format(username=POSTGRES_USERNAME,\n",
    "                        password=POSTGRES_PASSWORD,\n",
    "                        ipaddress=POSTGRES_ADDRESS,\n",
    "                        port=POSTGRES_PORT,\n",
    "                        dbname=POSTGRES_DBNAME))\n",
    "# Create the connection\n",
    "try:\n",
    "    print('Connecting to the PostgreSQL...........')\n",
    "    cnx = create_engine(postgres_str)\n",
    "    print(\"Connection successfully..................\")\n",
    "except OperationalError as err:\n",
    "    # passing exception to function\n",
    "    show_psycopg2_exception(err)        \n",
    "    # set the connection to 'None' in case of error"
   ]
  },
  {
   "cell_type": "code",
   "execution_count": 5,
   "id": "35b02f42",
   "metadata": {},
   "outputs": [
    {
     "name": "stdout",
     "output_type": "stream",
     "text": [
      "VISITS table created successfully........\n"
     ]
    }
   ],
   "source": [
    "#Establishing the connection\n",
    "conn = psycopg2.connect(\n",
    "   database=POSTGRES_DBNAME, user=POSTGRES_USERNAME, password=POSTGRES_PASSWORD, host=POSTGRES_ADDRESS, port= POSTGRES_PORT\n",
    ")\n",
    "#Creating a cursor object using the cursor() method\n",
    "cursor = conn.cursor()\n",
    "\n",
    "#Droping VISITS table if already exists.\n",
    "cursor.execute(\"DROP TABLE IF EXISTS VISITS\")\n",
    "\n",
    "#Creating table as per requirement\n",
    "sql ='''CREATE TABLE VISITS(\n",
    "    Customer_id CHAR(20),\n",
    "    City_id_visited INT,\n",
    "    Date_visited date\n",
    ")'''\n",
    "cursor.execute(sql)\n",
    "print(\"VISITS table created successfully........\")\n",
    "conn.commit()"
   ]
  },
  {
   "cell_type": "code",
   "execution_count": 7,
   "id": "15ec7d08",
   "metadata": {},
   "outputs": [
    {
     "name": "stdout",
     "output_type": "stream",
     "text": [
      "CUSTOMER table created successfully........\n"
     ]
    }
   ],
   "source": [
    "#Droping CUSTOMER table if already exists.\n",
    "cursor.execute(\"DROP TABLE IF EXISTS CUSTOMER\")\n",
    "\n",
    "#Creating table as per requirement\n",
    "sql ='''CREATE TABLE CUSTOMER(\n",
    "    Customer_id CHAR(20),\n",
    "    Customer_name CHAR(40),\n",
    "    Gender CHAR(1),\n",
    "    Age INT\n",
    ")'''\n",
    "cursor.execute(sql)\n",
    "print(\"CUSTOMER table created successfully........\")\n",
    "conn.commit()"
   ]
  },
  {
   "cell_type": "code",
   "execution_count": 8,
   "id": "7bf74e23",
   "metadata": {},
   "outputs": [
    {
     "name": "stdout",
     "output_type": "stream",
     "text": [
      "CITY table created successfully........\n"
     ]
    }
   ],
   "source": [
    "#Droping CITY table if already exists.\n",
    "cursor.execute(\"DROP TABLE IF EXISTS CITY\")\n",
    "\n",
    "#Creating table as per requirement\n",
    "sql ='''CREATE TABLE CITY(\n",
    "    City_id INT,\n",
    "    City_name CHAR(20),\n",
    "    Expense INT\n",
    ")'''\n",
    "cursor.execute(sql)\n",
    "print(\"CITY table created successfully........\")\n",
    "conn.commit()"
   ]
  },
  {
   "cell_type": "code",
   "execution_count": 9,
   "id": "43df4833",
   "metadata": {},
   "outputs": [
    {
     "name": "stdout",
     "output_type": "stream",
     "text": [
      "Data inserted in VISITS\n",
      "Data inserted in CUSTOMER\n",
      "Data inserted in CITY\n"
     ]
    }
   ],
   "source": [
    "#Establishing the connection\n",
    "conn = psycopg2.connect(\n",
    "   database=POSTGRES_DBNAME, user=POSTGRES_USERNAME, password=POSTGRES_PASSWORD, host=POSTGRES_ADDRESS, port= POSTGRES_PORT\n",
    ")\n",
    "cursor = conn.cursor()\n",
    "#Inserting sample data into the tables\n",
    "sql = '''INSERT INTO VISITS (Customer_id,City_id_visited,Date_visited) VALUES\n",
    "    (1001,2003,'1-Jan-03'),\n",
    "    (1001,2004,'1-Jan-04'),\n",
    "    (1002,2001,'1-Jan-01'),\n",
    "    (1004,2003,'1-Jan-03')'''\n",
    "cursor.execute(sql)\n",
    "print(\"Data inserted in VISITS\")\n",
    "conn.commit()\n",
    "sql = '''INSERT INTO CUSTOMER (Customer_id,Customer_name,Gender,Age) VALUES\n",
    "    (1001,'John','M',25),\n",
    "    (1002,'Mark','M',40),\n",
    "    (1003,'Martha','F',55),\n",
    "    (1004,'Selena','F',34)'''\n",
    "cursor.execute(sql)\n",
    "print(\"Data inserted in CUSTOMER\")\n",
    "conn.commit()\n",
    "sql = '''INSERT INTO CITY (City_id,City_name,Expense) VALUES\n",
    "    (2001,'Chicago',500),\n",
    "    (2002,'Newyork',1000),\n",
    "    (2003,'SFO',2000),\n",
    "    (2004,'Florida',800)'''\n",
    "cursor.execute(sql)\n",
    "print(\"Data inserted in CITY\")\n",
    "conn.commit()"
   ]
  },
  {
   "cell_type": "code",
   "execution_count": 10,
   "id": "46d6a753",
   "metadata": {},
   "outputs": [
    {
     "name": "stdout",
     "output_type": "stream",
     "text": [
      "Cities with more than 1 visits:\n",
      "SFO\n"
     ]
    }
   ],
   "source": [
    "#1) Cities frequently visited?\n",
    "\n",
    "sql='''select v.city_id_visited,\n",
    "            trim(c.city_name) as city_name,\n",
    "            count(distinct customer_id) as count \n",
    "            from visits v \n",
    "            join city c on c.city_id=v.city_id_visited \n",
    "            group by v.city_id_visited,c.city_name \n",
    "            having count(distinct customer_id)>1'''\n",
    "cursor.execute(sql)\n",
    "output1=cursor.fetchall()\n",
    "print(\"Cities with more than 1 visits:\")\n",
    "for row in output1:\n",
    "    print(row[1])"
   ]
  },
  {
   "cell_type": "code",
   "execution_count": 11,
   "id": "e6782957",
   "metadata": {},
   "outputs": [
    {
     "name": "stdout",
     "output_type": "stream",
     "text": [
      "Customers that visited more than 1 city:\n",
      "John\n"
     ]
    }
   ],
   "source": [
    "#2) Customers visited more than 1 city?\n",
    "\n",
    "sql='''select v.customer_id,\n",
    "            trim(c.customer_name) as customer_name,\n",
    "            count(distinct city_id_visited) as count \n",
    "            from visits v \n",
    "            join customer c on c.customer_id=v.customer_id \n",
    "            group by v.customer_id,c.customer_name \n",
    "            having count(distinct city_id_visited)>1'''\n",
    "cursor.execute(sql)\n",
    "output1=cursor.fetchall()\n",
    "print(\"Customers that visited more than 1 city:\")\n",
    "for row in output1:\n",
    "    print(row[1])"
   ]
  },
  {
   "cell_type": "code",
   "execution_count": 12,
   "id": "e4518bc2",
   "metadata": {},
   "outputs": [
    {
     "name": "stdout",
     "output_type": "stream",
     "text": [
      "[(2003, 'SFO', 'F', 1), (2001, 'Chicago', 'M', 1), (2004, 'Florida', 'M', 1), (2003, 'SFO', 'M', 1)]\n"
     ]
    }
   ],
   "source": [
    "#3) Cities visited breakdown by gender?\n",
    "\n",
    "sql='''select city_id,trim(city_name) as city_name,gender,count(*) as count\n",
    "from visits v\n",
    "join customer cust on v.customer_id=cust.customer_id\n",
    "join city on city.city_id=v.city_id_visited\n",
    "group by city_id,city_name,gender'''\n",
    "cursor.execute(sql)\n",
    "output1=cursor.fetchall()\n",
    "print(output1)"
   ]
  },
  {
   "cell_type": "code",
   "execution_count": 13,
   "id": "8ef8b85a",
   "metadata": {},
   "outputs": [
    {
     "name": "stdout",
     "output_type": "stream",
     "text": [
      "Cities not visited by every customer:  Chicago\n",
      "Expense:  500\n",
      "Cities not visited by every customer:  Florida\n",
      "Expense:  800\n",
      "Cities not visited by every customer:  Newyork\n",
      "Expense:  1000\n",
      "Cities not visited by every customer:  SFO\n",
      "Expense:  2000\n"
     ]
    }
   ],
   "source": [
    "#4) List the city names that are not visited by every customer and order them by the expense budget in ascending order?\n",
    "\n",
    "sql='''select trim(city_name) as city_name, expense from city join (select city_id,count(distinct cust.customer_id) \n",
    "from city \n",
    "left join visits v on city.city_id=v.city_id_visited\n",
    "left join customer cust on v.customer_id=cust.customer_id\n",
    "group by city_id having count(distinct cust.customer_id)<(select count(distinct customer_id) from customer))temp_c on city.city_id=temp_c.city_id order by expense asc'''\n",
    "cursor.execute(sql)\n",
    "output1=cursor.fetchall()\n",
    "for row in output1:\n",
    "    print(\"Cities not visited by every customer: \",row[0])\n",
    "    print(\"Expense: \",row[1])"
   ]
  },
  {
   "cell_type": "code",
   "execution_count": 14,
   "id": "ca308cc6",
   "metadata": {},
   "outputs": [
    {
     "name": "stdout",
     "output_type": "stream",
     "text": [
      "Customer:  Martha\n",
      "Travel %:  0\n",
      "Customer:  John\n",
      "Travel %:  50\n",
      "Customer:  Selena\n",
      "Travel %:  25\n",
      "Customer:  Mark\n",
      "Travel %:  25\n"
     ]
    }
   ],
   "source": [
    "#5) Visit/travel Percentage for every customer?\n",
    "\n",
    "sql='''select distinct trim(cust.customer_name) as customer_name,(count(c.city_id) over (partition by cust.customer_id)*100/count(c.city_id) over ()) as travel_perc from customer cust\n",
    "left join visits v on v.customer_id=cust.customer_id\n",
    "left join city c on v.city_id_visited=c.city_id '''\n",
    "cursor.execute(sql)\n",
    "output=cursor.fetchall()\n",
    "for row in output:\n",
    "    print(\"Customer: \",row[0])\n",
    "    print(\"Travel %: \",row[1])"
   ]
  },
  {
   "cell_type": "code",
   "execution_count": 15,
   "id": "08cd8282",
   "metadata": {},
   "outputs": [
    {
     "name": "stdout",
     "output_type": "stream",
     "text": [
      "Customer:  John\n",
      "Expense:  2800\n",
      "Customer:  Mark\n",
      "Expense:  500\n",
      "Customer:  Martha\n",
      "Expense:  0\n",
      "Customer:  Selena\n",
      "Expense:  2000\n"
     ]
    }
   ],
   "source": [
    "#6) Total expense incurred by customers on their visits?\n",
    "\n",
    "sql ='''select trim(cust.customer_id) as customer_id,\n",
    "trim(cust.customer_name) as customer_name,\n",
    "case when sum(c.expense) is null then 0 else sum(c.expense) end as expense \n",
    "from customer cust \n",
    "left join visits v on v.customer_id=cust.customer_id \n",
    "left join city c on v.city_id_visited=c.city_id \n",
    "group by cust.customer_id,cust.customer_name'''\n",
    "cursor.execute(sql)\n",
    "output=cursor.fetchall()\n",
    "for row in output:\n",
    "    print(\"Customer: \",row[1])\n",
    "    print(\"Expense: \",row[2])"
   ]
  },
  {
   "cell_type": "code",
   "execution_count": 16,
   "id": "a2e9aa63",
   "metadata": {},
   "outputs": [
    {
     "name": "stdout",
     "output_type": "stream",
     "text": [
      "[('1001', 'John', 'M', 25, 'SFO', '2003-01-01'), ('1002', 'Mark', 'M', 40, 'Chicago', '2001-01-01'), ('1004', 'Selena', 'F', 34, 'SFO', '2003-01-01')]\n"
     ]
    }
   ],
   "source": [
    "#7) list the Customer details along with the city they first visited and the date of visit?\n",
    "\n",
    "sql='''select trim(customer_id) as customer_id,trim(customer_name) as customer_name,gender,age,trim(city_name) as city_name,to_char(date_visited,'yyyy-mm-dd') as date_visited \n",
    "from (select cust.*,trim(c.city_name) as city_name,rank() over (partition by cust.customer_id order by v.date_visited asc) as rnk,v.date_visited from customer cust \n",
    "join visits v on v.customer_id=cust.customer_id\n",
    "join city c on v.city_id_visited=c.city_id)a where rnk=1\n",
    "'''\n",
    "cursor.execute(sql)\n",
    "output=cursor.fetchall()\n",
    "print(output)"
   ]
  },
  {
   "cell_type": "code",
   "execution_count": null,
   "id": "c3759aa0",
   "metadata": {},
   "outputs": [],
   "source": []
  },
  {
   "cell_type": "code",
   "execution_count": null,
   "id": "1473ffcb",
   "metadata": {},
   "outputs": [],
   "source": []
  }
 ],
 "metadata": {
  "kernelspec": {
   "display_name": "Python 3",
   "language": "python",
   "name": "python3"
  },
  "language_info": {
   "codemirror_mode": {
    "name": "ipython",
    "version": 3
   },
   "file_extension": ".py",
   "mimetype": "text/x-python",
   "name": "python",
   "nbconvert_exporter": "python",
   "pygments_lexer": "ipython3",
   "version": "3.8.8"
  }
 },
 "nbformat": 4,
 "nbformat_minor": 5
}
