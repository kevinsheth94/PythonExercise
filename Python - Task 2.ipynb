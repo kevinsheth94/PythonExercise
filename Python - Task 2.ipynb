{
 "cells": [
  {
   "cell_type": "code",
   "execution_count": 5,
   "id": "18a50e70",
   "metadata": {},
   "outputs": [
    {
     "name": "stdout",
     "output_type": "stream",
     "text": [
      "Requirement already satisfied: fuzzywuzzy in c:\\users\\kevin.sheth.saama.co\\anaconda3\\lib\\site-packages (0.18.0)Note: you may need to restart the kernel to use updated packages.\n",
      "\n"
     ]
    }
   ],
   "source": [
    "#Install required libraries\n",
    "pip install fuzzywuzzy"
   ]
  },
  {
   "cell_type": "code",
   "execution_count": 43,
   "id": "ff6f8867",
   "metadata": {},
   "outputs": [],
   "source": [
    "#import required libraries\n",
    "from fuzzywuzzy import process, fuzz\n",
    "import pandas as pd"
   ]
  },
  {
   "cell_type": "code",
   "execution_count": 44,
   "id": "beef4f10",
   "metadata": {},
   "outputs": [],
   "source": [
    "#Create sample list of company names\n",
    "company_name_example = ['Equipment ONLY - Saama Technologies','Saama Technologies','SaamaTech, Inc','Takeda Pharmaceutical SA - Central Office','*** DO NOT USE *** Takeda Pharmaceutical','Takeda Pharmaceutical, SA','Ship to AstraZeneca','AstraZeneca, gmbh Munich','AstraZeneca (use AstraZeneca, gmbh Munich acct 84719482-A)']"
   ]
  },
  {
   "cell_type": "code",
   "execution_count": 48,
   "id": "6c1a0ff1",
   "metadata": {},
   "outputs": [],
   "source": [
    "#Definition to use fuzzy logic to remove duplicates. \n",
    "#The threshold can be adjusted to allow for leway in text matching. I have currently selected 50% since the names are different but it can be adjusted to allow for more values to remain in the list\n",
    "def remove_duplicates(list_name):\n",
    "    de_duplicated_keywords = list(process.dedupe(list_name, threshold=50))\n",
    "    return de_duplicated_keywords"
   ]
  },
  {
   "cell_type": "code",
   "execution_count": 50,
   "id": "22fa8b72",
   "metadata": {},
   "outputs": [
    {
     "name": "stdout",
     "output_type": "stream",
     "text": [
      "['Equipment ONLY - Saama Technologies', 'Takeda Pharmaceutical SA - Central Office', 'AstraZeneca (use AstraZeneca, gmbh Munich acct 84719482-A)']\n"
     ]
    }
   ],
   "source": [
    "#Call function on sample list\n",
    "company_names=remove_duplicates(company_name_example)\n",
    "print(company_names)"
   ]
  }
 ],
 "metadata": {
  "kernelspec": {
   "display_name": "Python 3",
   "language": "python",
   "name": "python3"
  },
  "language_info": {
   "codemirror_mode": {
    "name": "ipython",
    "version": 3
   },
   "file_extension": ".py",
   "mimetype": "text/x-python",
   "name": "python",
   "nbconvert_exporter": "python",
   "pygments_lexer": "ipython3",
   "version": "3.8.8"
  }
 },
 "nbformat": 4,
 "nbformat_minor": 5
}
